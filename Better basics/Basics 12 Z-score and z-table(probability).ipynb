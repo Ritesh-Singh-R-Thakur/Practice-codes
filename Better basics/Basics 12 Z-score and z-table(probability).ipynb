{
 "cells": [
  {
   "cell_type": "code",
   "execution_count": 1,
   "id": "599ef52f",
   "metadata": {},
   "outputs": [],
   "source": [
    "from scipy import stats    "
   ]
  },
  {
   "cell_type": "code",
   "execution_count": 2,
   "id": "bafed845",
   "metadata": {},
   "outputs": [
    {
     "data": {
      "text/plain": [
       "'cdf(cummulative distribution fuction)=>\\nused to find probability when point on agraph is given'"
      ]
     },
     "execution_count": 2,
     "metadata": {},
     "output_type": "execute_result"
    }
   ],
   "source": [
    "\"\"\"cdf(cummulative distribution fuction)=>\n",
    "used to find probability when point on agraph is given\"\"\""
   ]
  },
  {
   "cell_type": "code",
   "execution_count": 3,
   "id": "336861a5",
   "metadata": {},
   "outputs": [
    {
     "data": {
      "text/plain": [
       "0.9087887802741321"
      ]
     },
     "execution_count": 3,
     "metadata": {},
     "output_type": "execute_result"
    }
   ],
   "source": [
    "#p(x<72)\n",
    "stats.norm.cdf(72,68,3)#x,mean,std,"
   ]
  },
  {
   "cell_type": "code",
   "execution_count": 4,
   "id": "97a62bdb",
   "metadata": {},
   "outputs": [
    {
     "data": {
      "text/plain": [
       "0.09121121972586788"
      ]
     },
     "execution_count": 4,
     "metadata": {},
     "output_type": "execute_result"
    }
   ],
   "source": [
    "#p(x>72)\n",
    "1-stats.norm.cdf(72,68,3)#x,mean,std"
   ]
  },
  {
   "cell_type": "code",
   "execution_count": 5,
   "id": "43b30bad",
   "metadata": {},
   "outputs": [],
   "source": [
    "#mean=711,std=29 p(x<=680)"
   ]
  },
  {
   "cell_type": "code",
   "execution_count": 6,
   "id": "8c41b92f",
   "metadata": {},
   "outputs": [
    {
     "data": {
      "text/plain": [
       "0.14254260383881612"
      ]
     },
     "execution_count": 6,
     "metadata": {},
     "output_type": "execute_result"
    }
   ],
   "source": [
    "stats.norm.cdf(680,711,29)"
   ]
  },
  {
   "cell_type": "code",
   "execution_count": 7,
   "id": "7baa9e59",
   "metadata": {},
   "outputs": [],
   "source": [
    "#mean=711 std=29 p(697<x<740)"
   ]
  },
  {
   "cell_type": "code",
   "execution_count": 8,
   "id": "cca22de1",
   "metadata": {},
   "outputs": [
    {
     "data": {
      "text/plain": [
       "0.5267111786415019"
      ]
     },
     "execution_count": 8,
     "metadata": {},
     "output_type": "execute_result"
    }
   ],
   "source": [
    "stats.norm.cdf(740,711,29)-stats.norm.cdf(697,711,29)"
   ]
  },
  {
   "cell_type": "code",
   "execution_count": 9,
   "id": "f5d92ad0",
   "metadata": {},
   "outputs": [
    {
     "data": {
      "text/plain": [
       "'ppf(point percentage function)=>\\nused to find point on a graph when probability is given'"
      ]
     },
     "execution_count": 9,
     "metadata": {},
     "output_type": "execute_result"
    }
   ],
   "source": [
    "\"\"\"ppf(point percentage function)=>\n",
    "used to find point on a graph when probability is given\"\"\""
   ]
  },
  {
   "cell_type": "code",
   "execution_count": 10,
   "id": "a15f4eb7",
   "metadata": {},
   "outputs": [],
   "source": [
    "#mean=700 sd=25 probabilty=0.85"
   ]
  },
  {
   "cell_type": "code",
   "execution_count": 11,
   "id": "1565bf3c",
   "metadata": {},
   "outputs": [
    {
     "data": {
      "text/plain": [
       "725.9108347373448"
      ]
     },
     "execution_count": 11,
     "metadata": {},
     "output_type": "execute_result"
    }
   ],
   "source": [
    "stats.norm.ppf(0.85,700,25)"
   ]
  },
  {
   "cell_type": "code",
   "execution_count": 12,
   "id": "a80082c5",
   "metadata": {},
   "outputs": [],
   "source": [
    "#mean=70 sd=10"
   ]
  },
  {
   "cell_type": "code",
   "execution_count": 13,
   "id": "4ecdef84",
   "metadata": {},
   "outputs": [
    {
     "data": {
      "text/plain": [
       "0.022750131948179195"
      ]
     },
     "execution_count": 13,
     "metadata": {},
     "output_type": "execute_result"
    }
   ],
   "source": [
    "#p(x<50)\n",
    "stats.norm.cdf(50,70,10)#x,mean,std"
   ]
  },
  {
   "cell_type": "code",
   "execution_count": 15,
   "id": "25bce2b2",
   "metadata": {},
   "outputs": [
    {
     "data": {
      "text/plain": [
       "0.9544997361036416"
      ]
     },
     "execution_count": 15,
     "metadata": {},
     "output_type": "execute_result"
    }
   ],
   "source": [
    "#p(50<x<90)\n",
    "stats.norm.cdf(90,70,10)-stats.norm.cdf(50,70,10)"
   ]
  },
  {
   "cell_type": "code",
   "execution_count": 16,
   "id": "897541bb",
   "metadata": {},
   "outputs": [
    {
     "data": {
      "text/plain": [
       "0.0013498980316301035"
      ]
     },
     "execution_count": 16,
     "metadata": {},
     "output_type": "execute_result"
    }
   ],
   "source": [
    "#p(x>100)\n",
    "1-stats.norm.cdf(100,70,10)"
   ]
  },
  {
   "cell_type": "code",
   "execution_count": 18,
   "id": "53988521",
   "metadata": {},
   "outputs": [
    {
     "data": {
      "text/plain": [
       "0.4331927987311419"
      ]
     },
     "execution_count": 18,
     "metadata": {},
     "output_type": "execute_result"
    }
   ],
   "source": [
    "#p(55<x<70)\n",
    "stats.norm.cdf(70,70,10)-stats.norm.cdf(55,70,10)"
   ]
  },
  {
   "cell_type": "code",
   "execution_count": 19,
   "id": "7048114e",
   "metadata": {},
   "outputs": [],
   "source": [
    "#p(x=75)\n",
    "#Probability of single R.V is Zero 0%"
   ]
  },
  {
   "cell_type": "code",
   "execution_count": null,
   "id": "72179859",
   "metadata": {},
   "outputs": [],
   "source": []
  },
  {
   "cell_type": "code",
   "execution_count": null,
   "id": "4d228ca9",
   "metadata": {},
   "outputs": [],
   "source": []
  },
  {
   "cell_type": "code",
   "execution_count": null,
   "id": "d7f0991f",
   "metadata": {},
   "outputs": [],
   "source": []
  },
  {
   "cell_type": "code",
   "execution_count": null,
   "id": "c8ea1def",
   "metadata": {},
   "outputs": [],
   "source": []
  },
  {
   "cell_type": "code",
   "execution_count": null,
   "id": "f321ef6d",
   "metadata": {},
   "outputs": [],
   "source": []
  },
  {
   "cell_type": "code",
   "execution_count": null,
   "id": "b9b66dc2",
   "metadata": {},
   "outputs": [],
   "source": []
  },
  {
   "cell_type": "code",
   "execution_count": null,
   "id": "343c89d2",
   "metadata": {},
   "outputs": [],
   "source": []
  },
  {
   "cell_type": "code",
   "execution_count": null,
   "id": "5284175e",
   "metadata": {},
   "outputs": [],
   "source": []
  },
  {
   "cell_type": "code",
   "execution_count": null,
   "id": "3ee7947f",
   "metadata": {},
   "outputs": [],
   "source": []
  }
 ],
 "metadata": {
  "kernelspec": {
   "display_name": "Python 3 (ipykernel)",
   "language": "python",
   "name": "python3"
  },
  "language_info": {
   "codemirror_mode": {
    "name": "ipython",
    "version": 3
   },
   "file_extension": ".py",
   "mimetype": "text/x-python",
   "name": "python",
   "nbconvert_exporter": "python",
   "pygments_lexer": "ipython3",
   "version": "3.11.4"
  }
 },
 "nbformat": 4,
 "nbformat_minor": 5
}
