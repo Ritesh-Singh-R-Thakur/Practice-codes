{
 "cells": [
  {
   "cell_type": "code",
   "execution_count": 29,
   "id": "4b05502e",
   "metadata": {},
   "outputs": [],
   "source": [
    "\"\"\"Confidence interval\n",
    "    90% = 0.95\n",
    "    95% = 0.975\n",
    "    99% = 0.995\"\"\"\n",
    "import numpy as np"
   ]
  },
  {
   "cell_type": "code",
   "execution_count": 30,
   "id": "ec4405bb",
   "metadata": {},
   "outputs": [
    {
     "data": {
      "text/plain": [
       "1.959963984540054"
      ]
     },
     "execution_count": 30,
     "metadata": {},
     "output_type": "execute_result"
    }
   ],
   "source": [
    "# z-distribution 95% C.I\n",
    "\n",
    "#z-table value at 95% C.I\n",
    "\n",
    "from scipy import stats\n",
    "stats.norm.ppf(0.975)"
   ]
  },
  {
   "cell_type": "code",
   "execution_count": 31,
   "id": "55100787",
   "metadata": {},
   "outputs": [
    {
     "data": {
      "text/plain": [
       "(1575.8820248378292, 2404.1179751621708)"
      ]
     },
     "execution_count": 31,
     "metadata": {},
     "output_type": "execute_result"
    }
   ],
   "source": [
    "#mean=1990,std of poplulation=2500,n=140\n",
    "\n",
    "#z-distribution for 95% C.I\n",
    "\n",
    "stats.norm.interval(0.95,1990,2500/np.sqrt(140))"
   ]
  },
  {
   "cell_type": "code",
   "execution_count": 32,
   "id": "cb4d39d3",
   "metadata": {},
   "outputs": [
    {
     "data": {
      "text/plain": [
       "1.977177724476122"
      ]
     },
     "execution_count": 32,
     "metadata": {},
     "output_type": "execute_result"
    }
   ],
   "source": [
    "# t-distribution 95% C.I df(degrees of freedom)=[n-1](sample-1)\n",
    "\n",
    "#t-table value at 95 C.I\n",
    "\n",
    "from scipy import stats\n",
    "stats.t.ppf(0.975,df=139)"
   ]
  },
  {
   "cell_type": "code",
   "execution_count": 33,
   "id": "2affe7cd",
   "metadata": {},
   "outputs": [
    {
     "data": {
      "text/plain": [
       "(1516.5999869168315, 2463.4000130831682)"
      ]
     },
     "execution_count": 33,
     "metadata": {},
     "output_type": "execute_result"
    }
   ],
   "source": [
    "#mean=1990,std of SAMPLE=2833,n=140\n",
    "\n",
    "#t-distribution 95% C.I df(degrees of freedom)=[n-1](sample-1)=140-1\n",
    "\n",
    "stats.t.interval(0.95,df=139,loc=1990,scale=2833/np.sqrt(140))"
   ]
  },
  {
   "cell_type": "code",
   "execution_count": null,
   "id": "410272e2",
   "metadata": {},
   "outputs": [],
   "source": [
    "#xbar=74,sigma=4,n=36\n",
    "stats.norm.interval"
   ]
  },
  {
   "cell_type": "code",
   "execution_count": null,
   "id": "7e1c3dc4",
   "metadata": {},
   "outputs": [],
   "source": []
  },
  {
   "cell_type": "code",
   "execution_count": null,
   "id": "19d314d8",
   "metadata": {},
   "outputs": [],
   "source": []
  },
  {
   "cell_type": "code",
   "execution_count": null,
   "id": "91396163",
   "metadata": {},
   "outputs": [],
   "source": []
  },
  {
   "cell_type": "code",
   "execution_count": null,
   "id": "29732dc7",
   "metadata": {},
   "outputs": [],
   "source": []
  },
  {
   "cell_type": "code",
   "execution_count": null,
   "id": "45ac1f9b",
   "metadata": {},
   "outputs": [],
   "source": []
  }
 ],
 "metadata": {
  "kernelspec": {
   "display_name": "Python 3 (ipykernel)",
   "language": "python",
   "name": "python3"
  },
  "language_info": {
   "codemirror_mode": {
    "name": "ipython",
    "version": 3
   },
   "file_extension": ".py",
   "mimetype": "text/x-python",
   "name": "python",
   "nbconvert_exporter": "python",
   "pygments_lexer": "ipython3",
   "version": "3.11.4"
  }
 },
 "nbformat": 4,
 "nbformat_minor": 5
}
